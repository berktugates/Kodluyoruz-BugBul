{
  "nbformat": 4,
  "nbformat_minor": 0,
  "metadata": {
    "colab": {
      "provenance": []
    },
    "kernelspec": {
      "name": "python3",
      "display_name": "Python 3"
    },
    "language_info": {
      "name": "python"
    }
  },
  "cells": [
    {
      "cell_type": "markdown",
      "source": [
        "\n",
        "Fibonacci matematiksel bir dizidir ve her bir sayı, kendisinden önce gelen iki sayının toplamı şeklinde oluşturulur. Fibonacci dizisi genellikle şu şekilde başlar: 0, 1, 1, 2, 3, 5, 8, 13, 21, 34, ...\n",
        "\n",
        "Fibonacci dizisinin matematiksel tanımı şu şekildedir:\n",
        "\n",
        "F(0) = 0, F(1) = 1, F(n) = F(n-1) + F(n-2) for n > 1\n",
        "\n",
        "Burada F(n), n. Fibonacci sayısını temsil eder. İlk iki sayı olan 0 ve 1, sabit olarak verilir ve geri kalan sayılar bu tanıma göre hesaplanır."
      ],
      "metadata": {
        "id": "lLP6HeSYxHIq"
      }
    },
    {
      "cell_type": "code",
      "execution_count": null,
      "metadata": {
        "id": "CIo8IT7zxB92"
      },
      "outputs": [],
      "source": [
        "def fibonacci(n):\n",
        "    fib_list=[0, 1]\n",
        "    for i in range(2, n):\n",
        "        fib_list.append(fib_list[-1] + fib_list[-2])\n",
        "    return fib_list\n",
        "\n",
        "n=10\n",
        "fibonacci_hesab = fibonacci(n)\n",
        "print(f\"Fibonacci dizisi ({n} eleman):\", fibonacci_hesab)"
      ]
    },
    {
      "cell_type": "markdown",
      "source": [
        "anagram, bir kelimenin veya ifadenin harflerinin yerlerinin değiştirilerek başka bir kelime veya ifade oluşturulabilmesi durumunu ifade eder. Yani, aynı harf setine sahip iki kelime veya ifadeyi farklı bir sıra ile yazarak birbirine dönüştürebilirsiniz. Anagramlar, aynı harf sayısına sahip oldukları için, harf sırası değiştirildiğinde aynı harfleri içeren farklı bir kelime veya ifade ortaya çıkar.\n",
        "\n",
        "Örneklerle anlatmak gerekirse:\n",
        "\n",
        "\"kedi\" kelimesi ile \"deki\" kelimesi birbirinin anagramıdır, çünkü her iki kelime de aynı harf setini içermektedir.\n",
        "\"listen\" kelimesi ile \"silent\" kelimesi de birbirinin anagramıdır.\n",
        "\"kötü\" kelimesi ile \"toku\" kelimesi anagram değildir, çünkü harf setleri farklıdır."
      ],
      "metadata": {
        "id": "W0eUVC2h8Yy1"
      }
    },
    {
      "cell_type": "code",
      "source": [
        "def is_anagram(word1, word2):\n",
        "    return sorted(word1) == sorted(word2)\n",
        "\n",
        "# Kullanıcıdan alınan kelimelerin anagram olup olmadığını kontrol edelim:\n",
        "word1 = input(\"Birinci kelimeyi girin: \")\n",
        "word2 = input(\"İkinci kelimeyi girin: \")\n",
        "\n",
        "if is_anagram(word1, word2):\n",
        "    print(\"Anagramlar.\")\n",
        "else:\n",
        "    print(\"Anagram değiller.\")"
      ],
      "metadata": {
        "id": "0np3PQWa8cb_"
      },
      "execution_count": null,
      "outputs": []
    },
    {
      "cell_type": "code",
      "source": [
        "    # Boşlukları kaldırarak sadece harf karakterlerini al\n",
        "    clean_word1 = ''.join(filter(str.isalpha, word1))\n",
        "    clean_word2 = ''.join(filter(str.isalpha, word2))"
      ],
      "metadata": {
        "id": "1hvoy_poa2Vb"
      },
      "execution_count": null,
      "outputs": []
    },
    {
      "cell_type": "markdown",
      "source": [
        "Palindromik Sayılar: Belirli bir aralıktaki palindromik sayıları bulan bir algoritma yazın. Palindromik sayılar, tersten okunduğunda da aynı olan sayılardır. Örneğin, 121, 232, 454 gibi."
      ],
      "metadata": {
        "id": "uBrDldII9zs9"
      }
    },
    {
      "cell_type": "code",
      "source": [
        "def palindrom(number):\n",
        "    return str(number) == str(number)[::-1]\n",
        "\n",
        "limit = 100\n",
        "palindrom_list = [num for num in range(limit) if palindrom(num)]\n",
        "\n",
        "print(\"Palindromik Sayılar (0 ile 100 arasında):\", palindrom_list)"
      ],
      "metadata": {
        "id": "4nEIxw5s-JGT"
      },
      "execution_count": null,
      "outputs": []
    },
    {
      "cell_type": "code",
      "source": [
        "def palindrom(number):\n",
        "    return str(number) == str(number)[::-1]\n",
        "limit = 100\n",
        "palindrom_list = []  # Boş bir liste oluşturuyoruz\n",
        "for num in range(limit):  # 0'dan limit değerine kadar olan sayıları kontrol ediyoruz\n",
        "    if palindrom(num):  # Eğer sayı palindromikse\n",
        "        palindrom_list.append(num)  # Listeye ekliyoruz\n",
        "\n",
        "print(\"Palindromik Sayılar (0 ile 100 arasında):\", palindrom_list)"
      ],
      "metadata": {
        "id": "jxdmg0gqZMfS"
      },
      "execution_count": null,
      "outputs": []
    },
    {
      "cell_type": "markdown",
      "source": [
        "Yükseklik Üçgeni"
      ],
      "metadata": {
        "id": "dCcDh8rwgsKU"
      }
    },
    {
      "cell_type": "code",
      "source": [
        "def print_pattern(n):\n",
        "    for i in range(1, n + 1):\n",
        "        print(str(i) * i)\n",
        "\n",
        "# 1 ile 9 arasındaki deseni yazdıralım:\n",
        "print_pattern(9)"
      ],
      "metadata": {
        "id": "PI5z89p9gswM"
      },
      "execution_count": null,
      "outputs": []
    },
    {
      "cell_type": "code",
      "source": [
        "print('\\n'.join(str(i) * i for i in range(1, 10)))"
      ],
      "metadata": {
        "id": "GE2u9ZLrg70s"
      },
      "execution_count": null,
      "outputs": []
    },
    {
      "cell_type": "code",
      "source": [
        "for i in range(1,input()):\n",
        "    print  i * 10**i / 9"
      ],
      "metadata": {
        "id": "KkO1MsAezULz"
      },
      "execution_count": null,
      "outputs": []
    },
    {
      "cell_type": "markdown",
      "source": [
        "Beğeniler"
      ],
      "metadata": {
        "id": "zmws7nsL5IyN"
      }
    },
    {
      "cell_type": "code",
      "source": [
        "def likes(names):\n",
        "    if len(names) == 0:\n",
        "        return \"no one likes this\"\n",
        "    elif len(names) == 1:\n",
        "        return f\"{names[0]} likes this\"\n",
        "    elif len(names) == 2:\n",
        "        return f\"{names[0]} and {names[1]} like this\"\n",
        "    elif len(names) == 3:\n",
        "        return f\"{names[0]}, {names[1]} and {names[2]} like this\"\n",
        "    else:\n",
        "        return f\"{names[0]}, {names[1]} and {len(names)-2} others like this\"\n",
        "\n",
        "# Kullanıcıdan isimleri alalım\n",
        "names = []\n",
        "while True:\n",
        "    name = input(\"Bir isim girin (Çıkmak için 'q' veya 'quit' yazın): \")\n",
        "    if name.lower() in ['q', 'quit']:\n",
        "        break\n",
        "    names.append(name)\n",
        "\n",
        "# Oluşturulan isim listesini fonksiyona gönderip sonucu yazdıralım\n",
        "result = likes(names)\n",
        "print(result)\n"
      ],
      "metadata": {
        "id": "kkP7w2UI5K9b"
      },
      "execution_count": null,
      "outputs": []
    },
    {
      "cell_type": "markdown",
      "source": [
        "Digital root"
      ],
      "metadata": {
        "id": "lsrJELLL_YDe"
      }
    },
    {
      "cell_type": "code",
      "source": [
        "def digital_root(n):\n",
        "    if n < 10:\n",
        "        return n\n",
        "    else:\n",
        "        total = sum(int(digit) for digit in str(n))\n",
        "        print(total)\n",
        "        return digital_root(total)\n",
        "\n",
        "# Örnekler\n",
        "print(digital_root(int(input(\"Bir sayı giriniz \"))))"
      ],
      "metadata": {
        "id": "OqQZ_P1D_cDE"
      },
      "execution_count": null,
      "outputs": []
    },
    {
      "cell_type": "markdown",
      "source": [
        "kredi kartı maskeleme"
      ],
      "metadata": {
        "id": "a2unbCCrEwJC"
      }
    },
    {
      "cell_type": "code",
      "source": [
        "def mask_numbers(number):\n",
        "    masked = '#' * (len(number) - 4) + number[-4:]\n",
        "    return masked\n",
        "\n",
        "input_number = input(\"Bir sayı girin: \")\n",
        "masked_number = mask_numbers(input_number)\n",
        "print(\"Maskeleme sonucu:\", masked_number)\n"
      ],
      "metadata": {
        "id": "RPPVksivEyLn",
        "colab": {
          "base_uri": "https://localhost:8080/"
        },
        "outputId": "19d3585d-2215-46c4-b89a-65b6a4612180"
      },
      "execution_count": null,
      "outputs": [
        {
          "output_type": "stream",
          "name": "stdout",
          "text": [
            "Bir sayı girin: 243464576978067\n",
            "Maskeleme sonucu: ###########8067\n"
          ]
        }
      ]
    },
    {
      "cell_type": "markdown",
      "source": [
        "Tic tac toe"
      ],
      "metadata": {
        "id": "UPUvnq6Fdheu"
      }
    },
    {
      "cell_type": "code",
      "source": [
        "import random\n",
        "\n",
        "def print_board(board):\n",
        "    for row in board:\n",
        "        print(\" | \".join(row))\n",
        "        print(\"-\" * 9)\n",
        "\n",
        "def check_winner(board, player):\n",
        "    # Satır kontrolü\n",
        "    for row in board:\n",
        "        if all(cell == player for cell in row):\n",
        "            return True\n",
        "\n",
        "    # Sütun kontrolü\n",
        "    for col in range(3):\n",
        "        if all(row[col] == player for row in board):\n",
        "            return True\n",
        "\n",
        "    # Çapraz kontrol\n",
        "    if all(board[i][i] == player for i in range(3)) or all(board[i][2 - i] == player for i in range(3)):\n",
        "        return True\n",
        "\n",
        "    return False\n",
        "\n",
        "def is_board_full(board):\n",
        "    return all(all(cell != \" \" for cell in row) for row in board)\n",
        "\n",
        "def computer_move(board):\n",
        "    while True:\n",
        "        row = random.randint(0, 2)\n",
        "        col = random.randint(0, 2)\n",
        "        if board[row][col] == \" \":\n",
        "            return row, col\n",
        "\n",
        "def tic_tac_toe():\n",
        "    board = [[\" \" for _ in range(3)] for _ in range(3)]\n",
        "    current_player = \"X\"\n",
        "\n",
        "    while True:\n",
        "        print_board(board)\n",
        "\n",
        "        if current_player == \"X\":\n",
        "            row = int(input(\"Your turn. Enter row (0-2): \"))\n",
        "            col = int(input(\"Your turn. Enter column (0-2): \"))\n",
        "        else:\n",
        "            print(\"Computer's turn:\")\n",
        "            row, col = computer_move(board)\n",
        "\n",
        "        if board[row][col] == \" \":\n",
        "            board[row][col] = current_player\n",
        "            if check_winner(board, current_player):\n",
        "                print_board(board)\n",
        "                if current_player == \"X\":\n",
        "                    print(\"You win!\")\n",
        "                else:\n",
        "                    print(\"Computer wins!\")\n",
        "                break\n",
        "            elif is_board_full(board):\n",
        "                print_board(board)\n",
        "                print(\"It's a tie!\")\n",
        "                break\n",
        "            else:\n",
        "                current_player = \"O\" if current_player == \"X\" else \"X\"\n",
        "        else:\n",
        "            print(\"Cell is already occupied. Try again.\")\n",
        "\n",
        "tic_tac_toe()\n"
      ],
      "metadata": {
        "id": "SnrmGTkRKdra"
      },
      "execution_count": null,
      "outputs": []
    },
    {
      "cell_type": "code",
      "source": [
        "def print_board(board):\n",
        "    for row in board:\n",
        "        print(\" | \".join(row))\n",
        "        print(\"-\" * 9)\n",
        "\n",
        "def check_winner(board, player):\n",
        "    # Satır kontrolü\n",
        "    for row in board:\n",
        "        if all(cell == player for cell in row):\n",
        "            return True\n",
        "\n",
        "    # Sütun kontrolü\n",
        "    for col in range(3):\n",
        "        if all(row[col] == player for row in board):\n",
        "            return True\n",
        "\n",
        "    # Çapraz kontrol\n",
        "    if all(board[i][i] == player for i in range(3)) or all(board[i][2 - i] == player for i in range(3)):\n",
        "        return True\n",
        "\n",
        "    return False\n",
        "\n",
        "def is_board_full(board):\n",
        "    return all(all(cell != \" \" for cell in row) for row in board)\n",
        "\n",
        "def tic_tac_toe():\n",
        "    board = [[\" \" for _ in range(3)] for _ in range(3)]\n",
        "    current_player = \"X\"\n",
        "\n",
        "    while True:\n",
        "        print_board(board)\n",
        "\n",
        "        row = int(input(f\"{current_player}'s turn. Enter row (0-2): \"))\n",
        "        col = int(input(f\"{current_player}'s turn. Enter column (0-2): \"))\n",
        "\n",
        "        if board[row][col] == \" \":\n",
        "            board[row][col] = current_player\n",
        "            if check_winner(board, current_player):\n",
        "                print_board(board)\n",
        "                print(f\"{current_player} wins!\")\n",
        "                break\n",
        "            elif is_board_full(board):\n",
        "                print_board(board)\n",
        "                print(\"It's a tie!\")\n",
        "                break\n",
        "            else:\n",
        "                current_player = \"O\" if current_player == \"X\" else \"X\"\n",
        "        else:\n",
        "            print(\"Cell is already occupied. Try again.\")\n",
        "\n",
        "tic_tac_toe()\n"
      ],
      "metadata": {
        "id": "7QA3GMbYdkCm"
      },
      "execution_count": null,
      "outputs": []
    }
  ]
}